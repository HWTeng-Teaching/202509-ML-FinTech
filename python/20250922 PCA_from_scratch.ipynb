{
 "cells": [
  {
   "cell_type": "markdown",
   "metadata": {},
   "source": [
    "# 20250922 PCA_from_scratch\n",
    "\n",
    "## 1. Generate data from $N_2\\left(0, \\left(\\begin{matrix}1&0.8\\\\0.8&1\\end{matrix}\\right)\\right)$\n"
   ]
  },
  {
   "cell_type": "markdown",
   "metadata": {},
   "source": [
    "*Created by Huei-Wen Teng on 20241201, last modified 20250922*"
   ]
  },
  {
   "cell_type": "code",
   "execution_count": 1,
   "metadata": {},
   "outputs": [],
   "source": [
    "import numpy as np\n",
    "import matplotlib.pyplot as plt"
   ]
  },
  {
   "cell_type": "code",
   "execution_count": 4,
   "metadata": {},
   "outputs": [
    {
     "data": {
      "image/png": "[encoded data removed]",
      "text/plain": [
       "<Figure size 640x480 with 1 Axes>"
      ]
     },
     "metadata": {},
     "output_type": "display_data"
    }
   ],
   "source": [
    "# Set random seed for reproducibility\n",
    "np.random.seed(42)\n",
    "\n",
    "# Number of samples\n",
    "n = 5\n",
    "\n",
    "# Mean vector\n",
    "mean = [0, 0]\n",
    "\n",
    "# Covariance matrix\n",
    "covariance = [[1, 0.8], [0.8, 1]]\n",
    "\n",
    "# Generate samples\n",
    "samples = np.random.multivariate_normal(mean, covariance, n)\n",
    "\n",
    "# Scatter plot\n",
    "plt.scatter(samples[:, 0], samples[:, 1], color='blue', marker='o')\n",
    "plt.xlabel('X-axis')\n",
    "plt.ylabel('Y-axis')\n",
    "plt.title('Scatter plot of samples from N((0,0), (1 0.8;0.8 1))')\n",
    "plt.grid(True)\n",
    "\n",
    "lims = [-3, 3]\n",
    "plt.xlim(lims)\n",
    "plt.ylim(lims)\n",
    "\n",
    "# Set equal scaling and square-shaped plot\n",
    "plt.gca().set_aspect('equal', adjustable='box')\n",
    "\n",
    "# Display the plot\n",
    "plt.show()"
   ]
  },
  {
   "cell_type": "markdown",
   "metadata": {},
   "source": [
    "## 2. Procedures of PCA using eigen-decomposition\n",
    "\n",
    "Now we do the following to implement the PCA\n",
    "\n",
    "1. Recode $X$ as samples \n",
    "2. Standardize $X$ to have zero column mean.\n",
    "3. Find the eigendecomposition of $X^TX$, find the eigen vector and eigenvalues\n",
    "4. Calculate the first principle component $Z_1$ and the second principle components $Z_2$\n",
    "5. Plot $Z_1$ versus $Z_2$\n",
    "6. Provide the bi-plot"
   ]
  },
  {
   "cell_type": "markdown",
   "metadata": {},
   "source": [
    "- The @ operator was introduced in Python 3.5 as a way to perform matrix multiplication using a clean and intuitive syntax.\n",
    "- It is equivalent to using numpy.matmul() or the dot method from the numpy library, such as np.dot(X, eigenvectors).\n",
    "- This operator is specifically used when dealing with linear algebra operations, such as calculating principal components, transformations, and other matrix-based computations."
   ]
  },
  {
   "cell_type": "markdown",
   "metadata": {},
   "source": [
    "$X$ needs to be centered! "
   ]
  },
  {
   "cell_type": "code",
   "execution_count": 5,
   "metadata": {},
   "outputs": [
    {
     "data": {
      "text/plain": [
       "array([-0.53888921, -0.22764224])"
      ]
     },
     "execution_count": 5,
     "metadata": {},
     "output_type": "execute_result"
    }
   ],
   "source": [
    "samples.mean(axis=0)"
   ]
  },
  {
   "cell_type": "code",
   "execution_count": 6,
   "metadata": {},
   "outputs": [
    {
     "name": "stdout",
     "output_type": "stream",
     "text": [
      "[0.0000000e+00 4.4408921e-17]\n",
      "[0.0000000e+00 4.4408921e-17]\n"
     ]
    }
   ],
   "source": [
    "X_centered = samples - samples.mean(axis=0)\n",
    "print(X_centered.mean(axis=0))\n",
    "X = X_centered.copy()\n",
    "print(X.mean(axis=0))"
   ]
  },
  {
   "cell_type": "code",
   "execution_count": 7,
   "metadata": {
    "scrolled": true
   },
   "outputs": [
    {
     "name": "stdout",
     "output_type": "stream",
     "text": [
      "T(X)X\n",
      "[[3.12540768 2.15077706]\n",
      " [2.15077706 2.00252687]]\n",
      "Eigenvalues:\n",
      "[4.78681619 0.34111836]\n",
      "\n",
      "Eigenvectors:\n",
      "[[ 0.7913839  -0.61131949]\n",
      " [ 0.61131949  0.7913839 ]]\n",
      "\n",
      "Pricinple components:\n",
      "[[-0.08748475 -0.29546224]\n",
      " [-0.38298593  0.4156542 ]\n",
      " [ 0.89055534 -0.21313905]\n",
      " [-1.5795605  -0.07863477]\n",
      " [ 1.15947583  0.17158186]]\n"
     ]
    }
   ],
   "source": [
    "# 1. From samples: subtract the mean of each column from the respective column\n",
    "X_centered = samples - samples.mean(axis=0)\n",
    "\n",
    "# 2. Recode samples (data) as X\n",
    "X = X_centered.copy()\n",
    "\n",
    "# 3. Standardize $X$ to have zero column mean.\n",
    "n_cov = result = X.T @ X\n",
    "print('T(X)X')\n",
    "print(n_cov)\n",
    "eigenvalues, eigenvectors = np.linalg.eig(n_cov)\n",
    "\n",
    "\n",
    "# However, the eigen values are not sorted. So, we need the following steps:\n",
    "# Sort the eigenvalues in descending order and get the indices\n",
    "sorted_indices = np.argsort(eigenvalues)[::-1]\n",
    "\n",
    "# Reorder eigenvalues and eigenvectors using the sorted indices\n",
    "eigenvalues = eigenvalues[sorted_indices]\n",
    "eigenvectors = eigenvectors[:, sorted_indices]\n",
    "\n",
    "\n",
    "print(\"Eigenvalues:\")\n",
    "print(eigenvalues)\n",
    "\n",
    "print(\"\\nEigenvectors:\")\n",
    "print(eigenvectors)\n",
    "\n",
    "\n",
    "# 4. Calculate the first principle commponent $Z_1$ and the second princple component $Z_2$\n",
    "Z = X @ eigenvectors \n",
    "print('\\nPricinple components:')\n",
    "print(Z);"
   ]
  },
  {
   "cell_type": "code",
   "execution_count": 8,
   "metadata": {},
   "outputs": [
    {
     "data": {
      "image/png": "[encoded data removed]",
      "text/plain": [
       "<Figure size 640x480 with 1 Axes>"
      ]
     },
     "metadata": {},
     "output_type": "display_data"
    }
   ],
   "source": [
    "# Scatter plot\n",
    "plt.scatter(Z[:, 0], Z[:, 1], color='blue', marker='o')\n",
    "plt.xlabel('First PC')\n",
    "plt.ylabel('Second PC')\n",
    "plt.grid(True)\n",
    "\n",
    "# Set x and y limits to be the same for a squared plot\n",
    "plt.xlim(lims)\n",
    "plt.ylim(lims)\n",
    "\n",
    "# Set equal scaling and square-shaped plot\n",
    "plt.gca().set_aspect('equal', adjustable='box')\n",
    "\n",
    "# Display the plot\n",
    "plt.show()"
   ]
  },
  {
   "cell_type": "markdown",
   "metadata": {},
   "source": [
    "## 3. Eigendecomposition versus Singular Value Decomposition (SVD)"
   ]
  },
  {
   "cell_type": "code",
   "execution_count": 7,
   "metadata": {
    "scrolled": true
   },
   "outputs": [
    {
     "name": "stdout",
     "output_type": "stream",
     "text": [
      "U (left singular vectors):\n",
      "[[-1.74024174e-01 -3.69246118e-02  1.49720729e-02 -4.92223420e-01\n",
      "   6.13904588e-02  8.13428847e-02 -7.66402509e-02  4.21339511e-01\n",
      "   2.11830130e-01  2.20698324e-01 -4.40549651e-01 -4.03662409e-02\n",
      "   9.06928643e-02  2.47526183e-01  1.14377694e-01  6.87881056e-02\n",
      "  -2.65148409e-02 -2.46983090e-01 -6.67811528e-02  2.98819146e-01]\n",
      " [-2.10009975e-01 -4.06970801e-01 -5.70193001e-03 -2.23221954e-01\n",
      "  -1.71787807e-01  4.42945366e-02  3.53411162e-01  6.69834468e-02\n",
      "  -1.21997566e-01  2.47862968e-01 -1.01820373e-02  2.48987145e-01\n",
      "  -7.91628301e-02 -1.34948879e-01  7.21297897e-03 -4.52271304e-01\n",
      "   1.70453592e-01  2.04093202e-01  3.63405570e-01 -9.63411864e-02]\n",
      " [ 1.50853125e-02 -5.14851173e-03  9.99768128e-01  4.43836541e-03\n",
      "  -2.10160732e-03 -6.76037346e-04  3.70117302e-03 -4.76150639e-03\n",
      "  -3.60106534e-03 -8.44069641e-04  5.44275671e-03  2.43675168e-03\n",
      "  -1.75059846e-03 -4.14890197e-03 -1.37764088e-03 -4.36938455e-03\n",
      "   1.65414055e-03  4.67828651e-03  3.65510544e-03 -4.49240237e-03]\n",
      " [-4.52684842e-01 -2.53098213e-01  5.95728075e-03  7.79809108e-01\n",
      "   1.56314927e-02  3.68267702e-02 -1.12796421e-02  1.81127426e-01\n",
      "   8.18366066e-02  1.07484968e-01 -1.85838270e-01 -2.21640346e-03\n",
      "   3.34414470e-02  9.60779234e-02  4.85190646e-02  2.11920476e-03\n",
      "  -1.04665670e-03 -9.17517664e-02 -6.54194199e-03  1.19932785e-01]\n",
      " [ 7.74882615e-02 -1.73740166e-01 -1.55271368e-03 -8.64204737e-03\n",
      "   9.72063339e-01  2.50452415e-03  5.50716984e-02 -1.06384631e-02\n",
      "  -2.79745750e-02  2.53531290e-02  1.98230463e-02  3.81403874e-02\n",
      "  -1.58912244e-02 -3.15830489e-02 -4.48241923e-03 -6.90606050e-02\n",
      "   2.60563196e-02  4.16064099e-02  5.60475724e-02 -2.84519916e-02]\n",
      " [ 7.40287642e-02  4.94424299e-02 -9.54437805e-04  3.77272648e-02\n",
      "  -1.61913487e-03  9.93650850e-01 -1.26819842e-04 -3.03757863e-02\n",
      "  -1.28648441e-02 -1.92004014e-02  3.08353504e-02 -1.03839484e-03\n",
      "  -5.09160029e-03 -1.51503337e-02 -8.07627085e-03  2.20197880e-03\n",
      "  -7.88822658e-04  1.40435492e-02 -9.67876764e-04 -1.93190217e-02]\n",
      " [-1.11374033e-01  3.59801022e-01  2.50201732e-03  3.59190710e-02\n",
      "   5.29644837e-02 -8.06690040e-03  8.93894971e-01  4.96208564e-03\n",
      "   4.72908620e-02 -5.86288183e-02 -2.24121051e-02 -7.39697118e-02\n",
      "   2.79966180e-02  5.30710576e-02  4.50384782e-03  1.34101003e-01\n",
      "  -5.05743792e-02 -7.29365524e-02 -1.08413853e-01  4.49120009e-02]\n",
      " [ 4.00566883e-01  8.90274001e-02 -5.60272345e-03  1.66038512e-01\n",
      "  -2.95345290e-02 -2.71114360e-02  4.30144492e-02  8.52385824e-01\n",
      "  -8.10963645e-02 -6.79131211e-02  1.56990716e-01  2.54342100e-02\n",
      "  -3.59112471e-02 -9.44258092e-02 -4.05566833e-02 -4.45791644e-02\n",
      "   1.70119087e-02  9.72887736e-02  3.99329451e-02 -1.11049622e-01]\n",
      " [ 2.17785474e-01 -1.15343116e-01 -3.44822422e-03  5.53216402e-02\n",
      "  -3.51138151e-02 -8.09555512e-03  6.34745613e-02 -6.48933231e-02\n",
      "   9.45372776e-01 -3.91881997e-03  7.63115489e-02  4.23141629e-02\n",
      "  -2.71942946e-02 -6.27575063e-02 -1.91665676e-02 -7.60609754e-02\n",
      "   2.87702070e-02  7.24340351e-02  6.31471137e-02 -6.63534262e-02]\n",
      " [ 1.87403403e-01  2.65462197e-01 -2.07166548e-03  1.25453713e-01\n",
      "   1.22285217e-02 -2.17660897e-02 -3.46685485e-02 -9.00596494e-02\n",
      "  -2.35402555e-02  9.23115381e-01  8.58077995e-02 -2.70354240e-02\n",
      "  -6.31801171e-03 -2.85692684e-02 -2.29159085e-02  4.99769966e-02\n",
      "  -1.87225426e-02  1.88102335e-02 -3.79526052e-02 -4.37852959e-02]\n",
      " [-4.25135176e-01 -3.15284176e-02  6.10094956e-03 -1.62783367e-01\n",
      "   3.86729185e-02  2.62194285e-02 -6.10661842e-02  1.50760768e-01\n",
      "   9.01212050e-02  5.93882876e-02  8.36857499e-01 -3.79467456e-02\n",
      "   4.10627223e-02  1.04607762e-01  4.19353708e-02  6.72391533e-02\n",
      "  -2.55609713e-02 -1.10768384e-01 -5.83139544e-02  1.20158640e-01]\n",
      " [-6.52807508e-02  2.54140371e-01  1.57271928e-03  3.02847663e-02\n",
      "   3.60774418e-02 -6.48325662e-03 -7.27798798e-02 -1.14913347e-03\n",
      "   3.05016053e-02 -4.30815608e-02 -1.07482445e-02  9.49120117e-01\n",
      "   1.84355266e-02  3.41228554e-02  1.87824584e-03  9.22889136e-02\n",
      "  -3.47992780e-02 -4.79113504e-02 -7.44891758e-02  2.79031485e-02]\n",
      " [ 9.60795113e-02 -7.70798610e-02 -1.58555621e-03  1.88147185e-02\n",
      "  -1.85394025e-02 -2.50852790e-03  3.44156346e-02 -2.61710323e-02\n",
      "  -2.57850493e-02  3.55094450e-03  3.22194109e-02  2.32244050e-02\n",
      "   9.86775908e-01 -2.95131298e-02 -7.99431210e-03 -4.18456786e-02\n",
      "   1.58151817e-02  3.50810258e-02  3.44868056e-02 -3.02289214e-02]\n",
      " [ 2.53683767e-01 -1.26956690e-01 -3.99843935e-03  6.60197915e-02\n",
      "  -4.00407005e-02 -9.73021140e-03  7.21259302e-02 -7.62840934e-02\n",
      "  -6.31555582e-02 -6.05608919e-03  8.92988449e-02  4.80018307e-02\n",
      "  -3.13302725e-02  9.27413923e-01 -2.24561598e-02 -8.62567331e-02\n",
      "   3.26304505e-02  8.34907239e-02  7.16836021e-02 -7.70206333e-02]\n",
      " [ 1.09894358e-01  1.28850138e-02 -1.56542457e-03  4.30890545e-02\n",
      "  -9.44561406e-03 -6.96968155e-03  1.46259234e-02 -3.94148387e-02\n",
      "  -2.29910118e-02 -1.63058661e-02  4.24326604e-02  8.98522128e-03\n",
      "  -1.03926302e-02 -2.67101430e-02  9.89076618e-01 -1.58822242e-02\n",
      "   6.04282843e-03  2.80678102e-02  1.38755127e-02 -3.08873109e-02]\n",
      " [ 1.14191560e-01 -4.61848606e-01 -2.79353009e-03 -5.66672961e-02\n",
      "  -6.51209318e-02  1.20426460e-02  1.31543826e-01  3.63296190e-03\n",
      "  -5.44674524e-02  7.88462408e-02  1.78459950e-02  9.20099830e-02\n",
      "  -3.30582642e-02 -6.08951683e-02 -2.98087887e-03  8.33090586e-01\n",
      "   6.29342223e-02  8.58722406e-02  1.34676176e-01 -4.94405449e-02]\n",
      " [-4.36074550e-02  1.74034932e-01  1.06105768e-03  2.11415251e-02\n",
      "   2.45965483e-02 -4.50406072e-03 -4.96621076e-02 -1.16820453e-03\n",
      "   2.06497374e-02 -2.96389938e-02 -6.94402163e-03 -3.47304268e-02\n",
      "   1.25148829e-02  2.30917549e-02  1.17947345e-03  6.30001105e-02\n",
      "   9.76245143e-01 -3.25141694e-02 -5.08390611e-02  1.87950965e-02]\n",
      " [-2.60442102e-01  1.98093823e-01  4.27132556e-03 -5.33160655e-02\n",
      "   4.89924229e-02  7.23997670e-03 -9.06349427e-02  7.19592740e-02\n",
      "   6.91975146e-02 -7.43937240e-03 -8.79359403e-02 -6.10674382e-02\n",
      "   3.53384512e-02  7.92447007e-02  2.18611446e-02  1.09998180e-01\n",
      "  -4.15771051e-02  9.06200280e-01 -9.07385818e-02  8.15454750e-02]\n",
      " [-1.02888716e-01  3.70550957e-01  2.40509798e-03  4.13283739e-02\n",
      "   5.33704026e-02 -9.00090707e-03 -1.07363906e-01  1.00346790e-03\n",
      "   4.61433003e-02 -6.18540928e-02 -1.85969943e-02 -7.49729416e-02\n",
      "   2.76510758e-02  5.16889423e-02  3.48861560e-03  1.35962019e-01\n",
      "  -5.12707321e-02 -7.19333447e-02  8.90189025e-01  4.28831309e-02]\n",
      " [ 2.99239930e-01 -8.47991516e-02 -4.55698049e-03  9.17406883e-02\n",
      "  -3.96718413e-02 -1.41134354e-02  6.91758399e-02 -9.60775835e-02\n",
      "  -7.03175695e-02 -2.02363285e-02  1.08922336e-01  4.53219922e-02\n",
      "  -3.39140865e-02 -8.10912711e-02 -2.76327806e-02 -8.11888333e-02\n",
      "   3.07464673e-02  9.07330757e-02  6.81193666e-02  9.11518917e-01]]\n",
      "\n",
      "S (singular values):\n",
      "[5.17900663 2.01914528]\n",
      "\n",
      "Vt (right singular vectors):\n",
      "[[ 0.69158359  0.72229644]\n",
      " [ 0.72229644 -0.69158359]]\n"
     ]
    }
   ],
   "source": [
    "U, S, Vt = np.linalg.svd(X)\n",
    "\n",
    "print(\"U (left singular vectors):\")\n",
    "print(U)\n",
    "\n",
    "print(\"\\nS (singular values):\")\n",
    "print(S)\n",
    "\n",
    "print(\"\\nVt (right singular vectors):\")\n",
    "print(Vt)"
   ]
  },
  {
   "cell_type": "markdown",
   "metadata": {},
   "source": [
    "Here's a breakdown of the output:\n",
    "\n",
    "- **U**: Contains the orthogonal matrix of left singular vectors.\n",
    "- **S**: Contains the singular values, which are non-negative and sorted in decreasing order. Note that `S` is returned as a 1D array of singular values, not a full diagonal matrix. You can convert it to a diagonal matrix using `np.diag(S)`, but you'll need to account for the shape if `X` isn't square.\n",
    "- **Vt**: Contains the orthogonal matrix of right singular vectors.\n"
   ]
  },
  {
   "cell_type": "markdown",
   "metadata": {},
   "source": [
    "Check if the squared singular value equals the eigenvalue: $\\sigma_i^2=\\lambda_i$? "
   ]
  },
  {
   "cell_type": "code",
   "execution_count": 46,
   "metadata": {
    "scrolled": false
   },
   "outputs": [
    {
     "name": "stdout",
     "output_type": "stream",
     "text": [
      "\n",
      "Sqaured singular value:\n",
      "[26.82210963  4.07694765]\n",
      "\n",
      "Eigenvalues:\n",
      "[26.82210963  4.07694765]\n"
     ]
    }
   ],
   "source": [
    "print('\\nSqaured singular value:')\n",
    "print(S**2)\n",
    "print('\\nEigenvalues:')\n",
    "print(eigenvalues)"
   ]
  },
  {
   "cell_type": "markdown",
   "metadata": {},
   "source": [
    "Check if eigenvectors equal the right singular vectors.\n",
    "Answer: They match, except for potential sign differences."
   ]
  },
  {
   "cell_type": "code",
   "execution_count": 47,
   "metadata": {},
   "outputs": [
    {
     "name": "stdout",
     "output_type": "stream",
     "text": [
      "\n",
      "Eigenvectors:\n",
      "[[-0.69158359 -0.72229644]\n",
      " [-0.72229644  0.69158359]]\n",
      "\n",
      "Right singular vectors\n",
      "[[ 0.69158359  0.72229644]\n",
      " [ 0.72229644 -0.69158359]]\n"
     ]
    }
   ],
   "source": [
    "print('\\nEigenvectors:')\n",
    "print(eigenvectors)\n",
    "print('\\nRight singular vectors')\n",
    "print(Vt)"
   ]
  },
  {
   "cell_type": "markdown",
   "metadata": {},
   "source": [
    "## 4. Check if the results are the same as \"from sklearn.decomposition import PCA"
   ]
  },
  {
   "cell_type": "code",
   "execution_count": 9,
   "metadata": {},
   "outputs": [],
   "source": [
    "import numpy as np\n",
    "import pandas as pd\n",
    "import matplotlib.pyplot as plt\n",
    "from sklearn.decomposition import PCA\n",
    "from sklearn.preprocessing import StandardScaler"
   ]
  },
  {
   "cell_type": "code",
   "execution_count": 10,
   "metadata": {
    "scrolled": true
   },
   "outputs": [
    {
     "data": {
      "text/plain": [
       "numpy.ndarray"
      ]
     },
     "execution_count": 10,
     "metadata": {},
     "output_type": "execute_result"
    }
   ],
   "source": [
    "type(X)"
   ]
  },
  {
   "cell_type": "code",
   "execution_count": 11,
   "metadata": {},
   "outputs": [],
   "source": [
    "df_X = pd.DataFrame(X, columns=['X1', 'X2'])\n"
   ]
  },
  {
   "cell_type": "code",
   "execution_count": 12,
   "metadata": {
    "scrolled": false
   },
   "outputs": [
    {
     "data": {
      "text/plain": [
       "X1    0.000000e+00\n",
       "X2    4.440892e-17\n",
       "dtype: float64"
      ]
     },
     "execution_count": 12,
     "metadata": {},
     "output_type": "execute_result"
    }
   ],
   "source": [
    "df_X.mean()"
   ]
  },
  {
   "cell_type": "markdown",
   "metadata": {},
   "source": [
    "Having scaled the data, we can then\n",
    "perform principal components analysis using the `PCA()` transform\n",
    "from the `sklearn.decomposition` package."
   ]
  },
  {
   "cell_type": "markdown",
   "metadata": {},
   "source": [
    "(By default, the `PCA()`  transform centers the variables to have\n",
    "mean zero though it does not scale them.) The transform `pcaUS`\n",
    "can be used to find the PCA\n",
    "`scores` returned by `fit()`. Once the `fit` method has been called, the `pcaUS` object also contains a number of useful quantities."
   ]
  },
  {
   "cell_type": "code",
   "execution_count": 13,
   "metadata": {
    "scrolled": true
   },
   "outputs": [
    {
     "data": {
      "text/html": [
       "<style>#sk-container-id-1 {color: black;}#sk-container-id-1 pre{padding: 0;}#sk-container-id-1 div.sk-toggleable {background-color: white;}#sk-container-id-1 label.sk-toggleable__label {cursor: pointer;display: block;width: 100%;margin-bottom: 0;padding: 0.3em;box-sizing: border-box;text-align: center;}#sk-container-id-1 label.sk-toggleable__label-arrow:before {content: \"▸\";float: left;margin-right: 0.25em;color: #696969;}#sk-container-id-1 label.sk-toggleable__label-arrow:hover:before {color: black;}#sk-container-id-1 div.sk-estimator:hover label.sk-toggleable__label-arrow:before {color: black;}#sk-container-id-1 div.sk-toggleable__content {max-height: 0;max-width: 0;overflow: hidden;text-align: left;background-color: #f0f8ff;}#sk-container-id-1 div.sk-toggleable__content pre {margin: 0.2em;color: black;border-radius: 0.25em;background-color: #f0f8ff;}#sk-container-id-1 input.sk-toggleable__control:checked~div.sk-toggleable__content {max-height: 200px;max-width: 100%;overflow: auto;}#sk-container-id-1 input.sk-toggleable__control:checked~label.sk-toggleable__label-arrow:before {content: \"▾\";}#sk-container-id-1 div.sk-estimator input.sk-toggleable__control:checked~label.sk-toggleable__label {background-color: #d4ebff;}#sk-container-id-1 div.sk-label input.sk-toggleable__control:checked~label.sk-toggleable__label {background-color: #d4ebff;}#sk-container-id-1 input.sk-hidden--visually {border: 0;clip: rect(1px 1px 1px 1px);clip: rect(1px, 1px, 1px, 1px);height: 1px;margin: -1px;overflow: hidden;padding: 0;position: absolute;width: 1px;}#sk-container-id-1 div.sk-estimator {font-family: monospace;background-color: #f0f8ff;border: 1px dotted black;border-radius: 0.25em;box-sizing: border-box;margin-bottom: 0.5em;}#sk-container-id-1 div.sk-estimator:hover {background-color: #d4ebff;}#sk-container-id-1 div.sk-parallel-item::after {content: \"\";width: 100%;border-bottom: 1px solid gray;flex-grow: 1;}#sk-container-id-1 div.sk-label:hover label.sk-toggleable__label {background-color: #d4ebff;}#sk-container-id-1 div.sk-serial::before {content: \"\";position: absolute;border-left: 1px solid gray;box-sizing: border-box;top: 0;bottom: 0;left: 50%;z-index: 0;}#sk-container-id-1 div.sk-serial {display: flex;flex-direction: column;align-items: center;background-color: white;padding-right: 0.2em;padding-left: 0.2em;position: relative;}#sk-container-id-1 div.sk-item {position: relative;z-index: 1;}#sk-container-id-1 div.sk-parallel {display: flex;align-items: stretch;justify-content: center;background-color: white;position: relative;}#sk-container-id-1 div.sk-item::before, #sk-container-id-1 div.sk-parallel-item::before {content: \"\";position: absolute;border-left: 1px solid gray;box-sizing: border-box;top: 0;bottom: 0;left: 50%;z-index: -1;}#sk-container-id-1 div.sk-parallel-item {display: flex;flex-direction: column;z-index: 1;position: relative;background-color: white;}#sk-container-id-1 div.sk-parallel-item:first-child::after {align-self: flex-end;width: 50%;}#sk-container-id-1 div.sk-parallel-item:last-child::after {align-self: flex-start;width: 50%;}#sk-container-id-1 div.sk-parallel-item:only-child::after {width: 0;}#sk-container-id-1 div.sk-dashed-wrapped {border: 1px dashed gray;margin: 0 0.4em 0.5em 0.4em;box-sizing: border-box;padding-bottom: 0.4em;background-color: white;}#sk-container-id-1 div.sk-label label {font-family: monospace;font-weight: bold;display: inline-block;line-height: 1.2em;}#sk-container-id-1 div.sk-label-container {text-align: center;}#sk-container-id-1 div.sk-container {/* jupyter's `normalize.less` sets `[hidden] { display: none; }` but bootstrap.min.css set `[hidden] { display: none !important; }` so we also need the `!important` here to be able to override the default hidden behavior on the sphinx rendered scikit-learn.org. See: https://github.com/scikit-learn/scikit-learn/issues/21755 */display: inline-block !important;position: relative;}#sk-container-id-1 div.sk-text-repr-fallback {display: none;}</style><div id=\"sk-container-id-1\" class=\"sk-top-container\"><div class=\"sk-text-repr-fallback\"><pre>PCA()</pre><b>In a Jupyter environment, please rerun this cell to show the HTML representation or trust the notebook. <br />On GitHub, the HTML representation is unable to render, please try loading this page with nbviewer.org.</b></div><div class=\"sk-container\" hidden><div class=\"sk-item\"><div class=\"sk-estimator sk-toggleable\"><input class=\"sk-toggleable__control sk-hidden--visually\" id=\"sk-estimator-id-1\" type=\"checkbox\" checked><label for=\"sk-estimator-id-1\" class=\"sk-toggleable__label sk-toggleable__label-arrow\">PCA</label><div class=\"sk-toggleable__content\"><pre>PCA()</pre></div></div></div></div></div>"
      ],
      "text/plain": [
       "PCA()"
      ]
     },
     "execution_count": 13,
     "metadata": {},
     "output_type": "execute_result"
    }
   ],
   "source": [
    "# Create a PCA object first\n",
    "pca = PCA()\n",
    "\n",
    "# Then use the PCA object to fit the DataFrame\n",
    "pca.fit(df_X)"
   ]
  },
  {
   "cell_type": "markdown",
   "id": "0c81e463",
   "metadata": {},
   "source": [
    "The scores can be computed using the `transform()` method\n",
    "of `pcaUS` after it has been fit."
   ]
  },
  {
   "cell_type": "code",
   "execution_count": 14,
   "id": "c071a242",
   "metadata": {
    "execution": {}
   },
   "outputs": [],
   "source": [
    "scores = pca.transform(df_X)"
   ]
  },
  {
   "cell_type": "markdown",
   "id": "84581683",
   "metadata": {},
   "source": [
    "We will plot these scores a bit further down.\n",
    "The `components_` attribute provides the principal component loadings:\n",
    "each row of `pcaUS.components_` contains the corresponding\n",
    "principal component loading vector."
   ]
  },
  {
   "cell_type": "markdown",
   "metadata": {},
   "source": [
    "Now, it is seen that the loadings are the same as what we calculate in Sections 2 and 3"
   ]
  },
  {
   "cell_type": "code",
   "execution_count": 61,
   "id": "c9bcab06",
   "metadata": {
    "execution": {}
   },
   "outputs": [
    {
     "data": {
      "text/plain": [
       "array([[ 0.69158359,  0.72229644],\n",
       "       [ 0.72229644, -0.69158359]])"
      ]
     },
     "execution_count": 61,
     "metadata": {},
     "output_type": "execute_result"
    }
   ],
   "source": [
    "pca.components_ "
   ]
  },
  {
   "cell_type": "code",
   "execution_count": 15,
   "metadata": {},
   "outputs": [
    {
     "data": {
      "image/png": "[encoded data removed]",
      "text/plain": [
       "<Figure size 640x480 with 1 Axes>"
      ]
     },
     "metadata": {},
     "output_type": "display_data"
    }
   ],
   "source": [
    "# Scatter plot\n",
    "plt.scatter(scores[:, 0], scores[:, 1], color='blue', marker='o')\n",
    "plt.xlabel('First PC')\n",
    "plt.ylabel('Second PC')\n",
    "plt.grid(True)\n",
    "\n",
    "# Set x and y limits to be the same for a squared plot\n",
    "plt.xlim(lims)\n",
    "plt.ylim(lims)\n",
    "\n",
    "# Set equal scaling and square-shaped plot\n",
    "plt.gca().set_aspect('equal', adjustable='box')\n",
    "\n",
    "# Display the plot\n",
    "plt.show()"
   ]
  },
  {
   "cell_type": "code",
   "execution_count": null,
   "metadata": {},
   "outputs": [],
   "source": []
  }
 ],
 "metadata": {
  "kernelspec": {
   "display_name": "Python 3 (ipykernel)",
   "language": "python",
   "name": "python3"
  },
  "language_info": {
   "codemirror_mode": {
    "name": "ipython",
    "version": 3
   },
   "file_extension": ".py",
   "mimetype": "text/x-python",
   "name": "python",
   "nbconvert_exporter": "python",
   "pygments_lexer": "ipython3",
   "version": "3.10.9"
  }
 },
 "nbformat": 4,
 "nbformat_minor": 4
}
