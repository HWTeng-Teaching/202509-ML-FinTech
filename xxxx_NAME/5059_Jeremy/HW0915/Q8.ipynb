  {
   "cells": [
    {
     "cell_type": "markdown",
     "metadata": {},
     "source": [
      "### (a) Use the pd.read_csv() function to read the data into Python. Call the loaded data college. Make sure that you have the directory set to the correct location for the data."
     ]
  }
