{
 "cells": [
  {
   "cell_type": "markdown",
   "id": "f804896a",
   "metadata": {},
   "source": [
    "# ML&Fintech HW2 Question 3"
   ]
  },
  {
   "cell_type": "markdown",
   "id": "13d5ee8a",
   "metadata": {},
   "source": [
    "Author: Alvin B. Lin\\\n",
    "Date: 22/9\\\n",
    "HW #: 2\\\n",
    "ID: 112652040"
   ]
  },
  {
   "cell_type": "markdown",
   "id": "ba5a36fa",
   "metadata": {},
   "source": [
    "## Problem 3"
   ]
  },
  {
   "cell_type": "markdown",
   "id": "fde9b250",
   "metadata": {},
   "source": [
    "In this problem, you will perform K-means clustering manually, with `K` = 2, on a small example with `n` = 6 observations and `p` = 2 features. The observations are as follows.\n"
   ]
  },
  {
   "cell_type": "markdown",
   "id": "7de1e1c9",
   "metadata": {},
   "source": [
    "|Obs.|$X_1$|$X_2$|\n",
    "|:---:|:---:|:---:|\n",
    "|$1$|$1$|$4$|\n",
    "|$2$|$1$|$3$|\n",
    "|$3$|$0$|$4$|\n",
    "|$4$|$5$|$1$|\n",
    "|$5$|$6$|$2$|\n",
    "|$6$|$4$|$0$|"
   ]
  },
  {
   "cell_type": "markdown",
   "id": "f1c3b7c3",
   "metadata": {},
   "source": [
    "(a) Plot the observations."
   ]
  },
  {
   "cell_type": "code",
   "execution_count": 154,
   "id": "894e7cc5",
   "metadata": {},
   "outputs": [
    {
     "data": {
      "image/png": "[encoded data removed]",
      "text/plain": [
       "<Figure size 800x600 with 1 Axes>"
      ]
     },
     "metadata": {},
     "output_type": "display_data"
    }
   ],
   "source": [
    "import numpy as np\n",
    "import matplotlib.pyplot as plt\n",
    "\n",
    "# Data from the table\n",
    "X1 = np.array([1.0, 1.0, 0.0, 5.0, 6.0, 4.0])\n",
    "X2 = np.array([4.0, 3.0, 4.0, 1.0, 2.0, 0.0])\n",
    "obs = list(zip(X1, X2))\n",
    "\n",
    "# print(f\"Observations: {obs}\")\n",
    "\n",
    "# Create the plot\n",
    "ax = plt.figure(figsize=(8, 6)) # Corrected from plt.Figure\n",
    "plt.xlabel('X1')\n",
    "plt.ylabel('X2')\n",
    "plt.title('Observations')\n",
    "\n",
    "# Plot the points\n",
    "plt.scatter(X1, X2, c='blue', s=100)\n",
    "\n",
    "# Label each observation with its number\n",
    "for i, (x, y) in enumerate(zip(X1, X2)):\n",
    "    plt.text(x + 0.1, y + 0.1, f'{i+1}', fontsize=12)\n"
   ]
  },
  {
   "cell_type": "markdown",
   "id": "54c7a576",
   "metadata": {},
   "source": [
    "---\n",
    "\n",
    "(b) Randomly assign a cluster label to each observation. You can use the `np.random.choice()` function to do this. Report the cluster labels for each observation."
   ]
  },
  {
   "cell_type": "code",
   "execution_count": 131,
   "id": "853d4ae8",
   "metadata": {},
   "outputs": [
    {
     "name": "stdout",
     "output_type": "stream",
     "text": [
      "Observations grouped by initial random assignment:\n",
      "Cluster 1: [(1.0, 4.0), (0.0, 4.0), (5.0, 1.0), (6.0, 2.0)]\n",
      "Cluster 2: [(1.0, 3.0), (4.0, 0.0)]\n"
     ]
    }
   ],
   "source": [
    "# The number of observations is 6\n",
    "n = 6\n",
    "\n",
    "# The number of clusters is K=2, so the labels are 1 and 2\n",
    "cluster_labels = [1, 2]\n",
    "\n",
    "# Set a random seed for reproducibility.\n",
    "np.random.seed(42)\n",
    "\n",
    "# Randomly assign a cluster label to each of the 6 observations\n",
    "assigned_clusters = np.random.choice(cluster_labels, size=n)\n",
    "\n",
    "# --- This is the new part of the code ---\n",
    "\n",
    "# Group observations by their assigned cluster\n",
    "clusters = {1: [], 2: []}\n",
    "for i, cluster in enumerate(assigned_clusters):\n",
    "    clusters[cluster].append(obs[i])\n",
    "\n",
    "print(\"Observations grouped by initial random assignment:\")\n",
    "print(f\"Cluster 1: {clusters[1]}\")\n",
    "print(f\"Cluster 2: {clusters[2]}\")"
   ]
  },
  {
   "cell_type": "markdown",
   "id": "863e5260",
   "metadata": {},
   "source": [
    "---\n",
    "\n",
    "(c) Compute the centroid for each cluster."
   ]
  },
  {
   "cell_type": "code",
   "execution_count": 132,
   "id": "3b572848",
   "metadata": {},
   "outputs": [
    {
     "name": "stdout",
     "output_type": "stream",
     "text": [
      "Calculated centroids:\n",
      "Centroid 1: [3.0, 2.75]\n",
      "Centroid 2: [2.5, 1.5]\n"
     ]
    }
   ],
   "source": [
    "centroids = [None, None]\n",
    "for i in cluster_labels:\n",
    "    # np.mean will work correctly on the list of numpy arrays\n",
    "    centroids[i - 1] = np.mean(clusters[i], axis=0)\n",
    "\n",
    "# To see the output\n",
    "print(\"Calculated centroids:\")\n",
    "print(f\"Centroid 1: {centroids[0].tolist()}\")\n",
    "print(f\"Centroid 2: {centroids[1].tolist()}\")"
   ]
  },
  {
   "cell_type": "markdown",
   "id": "62621dd8",
   "metadata": {},
   "source": [
    "The random clustering's average for clusters are $(2.5,\\,2.0)$ and $(3.5,\\,3.0)$\n",
    "\n",
    "---"
   ]
  },
  {
   "cell_type": "markdown",
   "id": "d44f278e",
   "metadata": {},
   "source": [
    "(d) Assign each observation to the centroid to which it is closest, in\n",
    "terms of Euclidean distance. Report the cluster labels for each\n",
    "observation."
   ]
  },
  {
   "cell_type": "code",
   "execution_count": 147,
   "id": "935639d4",
   "metadata": {},
   "outputs": [
    {
     "name": "stdout",
     "output_type": "stream",
     "text": [
      "--- Iteration 1 ---\n",
      "Cluster 1: [(1.0, 4.0), (1.0, 3.0), (0.0, 4.0)]\n",
      "Cluster 2: [(5.0, 1.0), (6.0, 2.0), (4.0, 0.0)]\n"
     ]
    }
   ],
   "source": [
    "new_clusters = {1: [], 2: []}\n",
    "new_assigned_clusters = []\n",
    "\n",
    "for dta in obs:\n",
    "    distance = [None, None]\n",
    "    for j in cluster_labels:\n",
    "        distance[j-1] = np.sqrt((dta[0] - centroids[j-1][0])**2 + (dta[1] - centroids[j-1][1])**2)\n",
    "\n",
    "    ass_cluster = np.argmin(distance)\n",
    "\n",
    "    # Corrected line: 'dta' is a tuple, so we don't need .tolist()\n",
    "    new_clusters[ass_cluster + 1].append(dta)\n",
    "    new_assigned_clusters.append(ass_cluster + 1)\n",
    "\n",
    "clusters = new_clusters.copy()\n",
    "assigned_clusters = new_assigned_clusters.copy()\n",
    "\n",
    "print(\"--- Iteration 1 ---\")\n",
    "for _ in range(len(cluster_labels)):\n",
    "    print(f\"Cluster {_ + 1}: {clusters[_ + 1]}\")\n"
   ]
  },
  {
   "cell_type": "markdown",
   "id": "d62d7801",
   "metadata": {},
   "source": [
    "After the rellocation, we know observation 1, 2, 3, 6 are assigned to the 1st cluster, while observation 4, 5 are assigned to the second cluster.\n",
    "\n",
    "---"
   ]
  },
  {
   "cell_type": "markdown",
   "id": "6303c288",
   "metadata": {},
   "source": [
    "(e) Repeat (c) and (d) until the answers obtained stop changing.\n"
   ]
  },
  {
   "cell_type": "code",
   "execution_count": 151,
   "id": "12ec6b7e",
   "metadata": {},
   "outputs": [
    {
     "name": "stdout",
     "output_type": "stream",
     "text": [
      "--- Iteration 2 ---\n",
      "Cluster 1: [[1.0, 4.0], [1.0, 3.0], [0.0, 4.0]]\n",
      "Cluster 2: [[5.0, 1.0], [6.0, 2.0], [4.0, 0.0]]\n",
      "\n",
      "After 2 iterations, the clustering process converges.\n",
      "Cluster 1: [[1.0, 4.0], [1.0, 3.0], [0.0, 4.0]]\n",
      "Cluster 2: [[5.0, 1.0], [6.0, 2.0], [4.0, 0.0]]\n",
      "Final assignments: [1, 1, 1, 2, 2, 2]\n"
     ]
    }
   ],
   "source": [
    "# Assuming obs, assigned_clusters, new_assigned_clusters, centroids, and cluster_labels\n",
    "# are defined from previous steps.\n",
    "\n",
    "count = 1\n",
    "\n",
    "obs = np.array(obs)\n",
    "\n",
    "# Corrected loop condition for checking convergence\n",
    "while not np.array_equal(assigned_clusters, new_assigned_clusters) or count < 2:\n",
    "    # Update assigned_clusters with the results from the previous iteration\n",
    "    if count > 1:\n",
    "        assigned_clusters = new_assigned_clusters.copy()\n",
    "\n",
    "    # Re-initialize new_clusters and new_assigned_clusters for the current iteration\n",
    "    new_clusters = {1: [], 2: []}\n",
    "    new_assigned_clusters = np.zeros(len(obs), dtype=int)\n",
    "\n",
    "    print(f\"--- Iteration {count + 1} ---\")\n",
    "    # print(\"Current Assignments:\", assigned_clusters.tolist())\n",
    "\n",
    "    # E-step: Re-assign observations to the nearest centroid\n",
    "    for i, dta in enumerate(obs):\n",
    "        distance = []\n",
    "        for j in cluster_labels:\n",
    "            dist = np.sqrt((dta[0] - centroids[j-1][0])**2 + (dta[1] - centroids[j-1][1])**2)\n",
    "            distance.append(dist)\n",
    "\n",
    "        ass_cluster_index = np.argmin(distance)\n",
    "        ass_cluster_label = ass_cluster_index + 1\n",
    "        new_assigned_clusters[i] = ass_cluster_label\n",
    "\n",
    "    # M-step: Recalculate centroids based on new assignments\n",
    "    for i in cluster_labels:\n",
    "        cluster_obs = obs[new_assigned_clusters == i]\n",
    "        if len(cluster_obs) > 0:\n",
    "            centroids[i-1] = np.mean(cluster_obs, axis=0)\n",
    "    \n",
    "    # After recalculating centroids, group points for the next loop's output\n",
    "    for i, label in enumerate(new_assigned_clusters):\n",
    "        new_clusters[label].append(obs[i].tolist())\n",
    "\n",
    "    if isinstance(centroids, np.ndarray):\n",
    "        centroids = centroids.tolist()\n",
    "\n",
    "    # print(\"New Centroids:\", centroid)\n",
    "    for _ in range(len(cluster_labels)):\n",
    "        print(f\"Cluster {_ + 1}: {new_clusters[_ + 1]}\")\n",
    "\n",
    "    count += 1\n",
    "    \n",
    "# The loop exits when assigned_clusters and new_assigned_clusters are equal,\n",
    "# but the final values are in new_assigned_clusters and new_clusters.\n",
    "print(f\"\\nAfter {count} iterations, the clustering process converges.\")\n",
    "for _ in range(len(cluster_labels)):\n",
    "    print(f\"Cluster {_ + 1}: {new_clusters[_ + 1]}\")\n",
    "print(\"Final assignments:\", new_assigned_clusters.tolist())"
   ]
  },
  {
   "cell_type": "markdown",
   "id": "b4d76020",
   "metadata": {},
   "source": [
    "---\n",
    "\n",
    "(f) In your plot from (a), colour the observations according to the cluster labels obtained."
   ]
  },
  {
   "cell_type": "code",
   "execution_count": 160,
   "id": "999581bc",
   "metadata": {},
   "outputs": [
    {
     "data": {
      "text/plain": [
       "<matplotlib.legend.Legend at 0x1568c7a1b80>"
      ]
     },
     "execution_count": 160,
     "metadata": {},
     "output_type": "execute_result"
    },
    {
     "data": {
      "image/png": "[encoded data removed]",
      "text/plain": [
       "<Figure size 800x600 with 1 Axes>"
      ]
     },
     "metadata": {},
     "output_type": "display_data"
    }
   ],
   "source": [
    "x_cluster1, y_cluster1= zip(*new_clusters[1])\n",
    "x_cluster2, y_cluster2= zip(*new_clusters[2])\n",
    "\n",
    "ax = plt.figure(figsize=(8, 6))\n",
    "plt.xlabel('X1')\n",
    "plt.ylabel('X2')\n",
    "plt.title('K-means Clustering Result')   \n",
    "plt.scatter(x_cluster1, y_cluster1, c='orange', label='Cluster 1', s=100)\n",
    "plt.scatter(x_cluster2, y_cluster2, c='blue', label='Cluster 2', s=100)\n",
    "plt.legend()"
   ]
  },
  {
   "cell_type": "markdown",
   "id": "5a8e0763",
   "metadata": {},
   "source": [
    "We can now visualise the converging result, which is the same as we expect. The algorithm successfully separate the data set into two separate, appropriate clusters."
   ]
  }
 ],
 "metadata": {
  "kernelspec": {
   "display_name": "Python 3",
   "language": "python",
   "name": "python3"
  },
  "language_info": {
   "codemirror_mode": {
    "name": "ipython",
    "version": 3
   },
   "file_extension": ".py",
   "mimetype": "text/x-python",
   "name": "python",
   "nbconvert_exporter": "python",
   "pygments_lexer": "ipython3",
   "version": "3.12.2"
  }
 },
 "nbformat": 4,
 "nbformat_minor": 5
}
