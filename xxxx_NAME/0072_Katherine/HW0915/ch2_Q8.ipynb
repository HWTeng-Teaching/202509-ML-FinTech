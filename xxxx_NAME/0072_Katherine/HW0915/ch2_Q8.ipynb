{
 "cells": [
  {
   "cell_type": "markdown",
   "id": "44bfaea3",
   "metadata": {},
   "source": [
    "import library"
   ]
  },
  {
   "cell_type": "code",
   "execution_count": 2,
   "id": "c009d895",
   "metadata": {},
   "outputs": [],
   "source": [
    "import numpy\n",
    "import pandas as pd"
   ]
  },
  {
   "cell_type": "markdown",
   "id": "804faa35",
   "metadata": {},
   "source": [
    "(a)Use the pd.read_csv() function to read the data into Python. Call the loaded data college. Make sure that you have the directory set to the correct location for the data."
   ]
  },
  {
   "cell_type": "code",
   "execution_count": 5,
   "id": "a2ef2062",
   "metadata": {},
   "outputs": [
    {
     "name": "stdout",
     "output_type": "stream",
     "text": [
      "                     Unnamed: 0 Private  Apps  Accept  Enroll  Top10perc  \\\n",
      "0  Abilene Christian University     Yes  1660    1232     721         23   \n",
      "1            Adelphi University     Yes  2186    1924     512         16   \n",
      "2                Adrian College     Yes  1428    1097     336         22   \n",
      "3           Agnes Scott College     Yes   417     349     137         60   \n",
      "4     Alaska Pacific University     Yes   193     146      55         16   \n",
      "\n",
      "   Top25perc  F.Undergrad  P.Undergrad  Outstate  Room.Board  Books  Personal  \\\n",
      "0         52         2885          537      7440        3300    450      2200   \n",
      "1         29         2683         1227     12280        6450    750      1500   \n",
      "2         50         1036           99     11250        3750    400      1165   \n",
      "3         89          510           63     12960        5450    450       875   \n",
      "4         44          249          869      7560        4120    800      1500   \n",
      "\n",
      "   PhD  Terminal  S.F.Ratio  perc.alumni  Expend  Grad.Rate  \n",
      "0   70        78       18.1           12    7041         60  \n",
      "1   29        30       12.2           16   10527         56  \n",
      "2   53        66       12.9           30    8735         54  \n",
      "3   92        97        7.7           37   19016         59  \n",
      "4   76        72       11.9            2   10922         15  \n",
      "                         Unnamed: 0 Private   Apps  Accept  Enroll  Top10perc  \\\n",
      "772         Worcester State College      No   2197    1515     543          4   \n",
      "773               Xavier University     Yes   1959    1805     695         24   \n",
      "774  Xavier University of Louisiana     Yes   2097    1915     695         34   \n",
      "775                 Yale University     Yes  10705    2453    1317         95   \n",
      "776    York College of Pennsylvania     Yes   2989    1855     691         28   \n",
      "\n",
      "     Top25perc  F.Undergrad  P.Undergrad  Outstate  Room.Board  Books  \\\n",
      "772         26         3089         2029      6797        3900    500   \n",
      "773         47         2849         1107     11520        4960    600   \n",
      "774         61         2793          166      6900        4200    617   \n",
      "775         99         5217           83     19840        6510    630   \n",
      "776         63         2988         1726      4990        3560    500   \n",
      "\n",
      "     Personal  PhD  Terminal  S.F.Ratio  perc.alumni  Expend  Grad.Rate  \n",
      "772      1200   60        60       21.0           14    4469         40  \n",
      "773      1250   73        75       13.3           31    9189         83  \n",
      "774       781   67        75       14.4           20    8323         49  \n",
      "775      2115   96        96        5.8           49   40386         99  \n",
      "776      1250   75        75       18.1           28    4509         99  \n"
     ]
    }
   ],
   "source": [
    "college = pd.read_csv('College.csv')\n",
    "\n",
    "print(college.head())\n",
    "print(college.tail())"
   ]
  },
  {
   "cell_type": "markdown",
   "id": "c50753d8",
   "metadata": {},
   "source": [
    "(b) Look at the data used in the notebook by creating and running a new cell with just the code college in it. You should notice that the first column is just the name of each university in a column named something like Unnamed: 0. We don’t really want pandas to treat this as data. However, it may be handy to have these names for later. Try the following commands and similarly look at the resulting data frames:"
   ]
  },
  {
   "cell_type": "code",
   "execution_count": null,
   "id": "75551dfe",
   "metadata": {},
   "outputs": [
    {
     "name": "stdout",
     "output_type": "stream",
     "text": [
      "                             Private  Apps  Accept  Enroll  Top10perc  \\\n",
      "College                                                                 \n",
      "Abilene Christian University     Yes  1660    1232     721         23   \n",
      "Adelphi University               Yes  2186    1924     512         16   \n",
      "Adrian College                   Yes  1428    1097     336         22   \n",
      "Agnes Scott College              Yes   417     349     137         60   \n",
      "Alaska Pacific University        Yes   193     146      55         16   \n",
      "\n",
      "                              Top25perc  F.Undergrad  P.Undergrad  Outstate  \\\n",
      "College                                                                       \n",
      "Abilene Christian University         52         2885          537      7440   \n",
      "Adelphi University                   29         2683         1227     12280   \n",
      "Adrian College                       50         1036           99     11250   \n",
      "Agnes Scott College                  89          510           63     12960   \n",
      "Alaska Pacific University            44          249          869      7560   \n",
      "\n",
      "                              Room.Board  Books  Personal  PhD  Terminal  \\\n",
      "College                                                                    \n",
      "Abilene Christian University        3300    450      2200   70        78   \n",
      "Adelphi University                  6450    750      1500   29        30   \n",
      "Adrian College                      3750    400      1165   53        66   \n",
      "Agnes Scott College                 5450    450       875   92        97   \n",
      "Alaska Pacific University           4120    800      1500   76        72   \n",
      "\n",
      "                              S.F.Ratio  perc.alumni  Expend  Grad.Rate  \n",
      "College                                                                  \n",
      "Abilene Christian University       18.1           12    7041         60  \n",
      "Adelphi University                 12.2           16   10527         56  \n",
      "Adrian College                     12.9           30    8735         54  \n",
      "Agnes Scott College                 7.7           37   19016         59  \n",
      "Alaska Pacific University          11.9            2   10922         15  \n",
      "                               Private   Apps  Accept  Enroll  Top10perc  \\\n",
      "College                                                                    \n",
      "Worcester State College             No   2197    1515     543          4   \n",
      "Xavier University                  Yes   1959    1805     695         24   \n",
      "Xavier University of Louisiana     Yes   2097    1915     695         34   \n",
      "Yale University                    Yes  10705    2453    1317         95   \n",
      "York College of Pennsylvania       Yes   2989    1855     691         28   \n",
      "\n",
      "                                Top25perc  F.Undergrad  P.Undergrad  Outstate  \\\n",
      "College                                                                         \n",
      "Worcester State College                26         3089         2029      6797   \n",
      "Xavier University                      47         2849         1107     11520   \n",
      "Xavier University of Louisiana         61         2793          166      6900   \n",
      "Yale University                        99         5217           83     19840   \n",
      "York College of Pennsylvania           63         2988         1726      4990   \n",
      "\n",
      "                                Room.Board  Books  Personal  PhD  Terminal  \\\n",
      "College                                                                      \n",
      "Worcester State College               3900    500      1200   60        60   \n",
      "Xavier University                     4960    600      1250   73        75   \n",
      "Xavier University of Louisiana        4200    617       781   67        75   \n",
      "Yale University                       6510    630      2115   96        96   \n",
      "York College of Pennsylvania          3560    500      1250   75        75   \n",
      "\n",
      "                                S.F.Ratio  perc.alumni  Expend  Grad.Rate  \n",
      "College                                                                    \n",
      "Worcester State College              21.0           14    4469         40  \n",
      "Xavier University                    13.3           31    9189         83  \n",
      "Xavier University of Louisiana       14.4           20    8323         49  \n",
      "Yale University                       5.8           49   40386         99  \n",
      "York College of Pennsylvania         18.1           28    4509         99  \n"
     ]
    }
   ],
   "source": [
    "college2 = pd.read_csv('College.csv', index_col=0) #set first column as index\n",
    "\n",
    "#change the name of first column and set it as index\n",
    "college3 = college.rename({'Unnamed: 0': 'College'},\n",
    "axis=1)\n",
    "college3 = college3.set_index('College')\n",
    "\n",
    "college = college3\n",
    "\n",
    "print(college.head())\n",
    "print(college.tail())"
   ]
  }
 ],
 "metadata": {
  "kernelspec": {
   "display_name": "base",
   "language": "python",
   "name": "python3"
  },
  "language_info": {
   "codemirror_mode": {
    "name": "ipython",
    "version": 3
   },
   "file_extension": ".py",
   "mimetype": "text/x-python",
   "name": "python",
   "nbconvert_exporter": "python",
   "pygments_lexer": "ipython3",
   "version": "3.13.5"
  }
 },
 "nbformat": 4,
 "nbformat_minor": 5
}
