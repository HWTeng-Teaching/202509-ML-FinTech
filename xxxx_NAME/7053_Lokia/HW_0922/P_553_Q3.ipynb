{
  "nbformat": 4,
  "nbformat_minor": 0,
  "metadata": {
    "colab": {
      "provenance": []
    },
    "kernelspec": {
      "name": "python3",
      "display_name": "Python 3"
    },
    "language_info": {
      "name": "python"
    }
  },
  "cells": [
    {
      "cell_type": "markdown",
      "source": [
        " In this problem, you will perform K-means clustering manually, with\n",
        "K = 2, on a small example with n = 6 observations and p = 2 features. The observations are as follows."
      ],
      "metadata": {
        "id": "CwpxhwWWhTb1"
      }
    },
    {
      "cell_type": "markdown",
      "source": [
        "![image.png](data:image/png;base64,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)"
      ],
      "metadata": {
        "id": "yAlPq6HYhUoj"
      }
    },
    {
      "cell_type": "markdown",
      "source": [
        "(a) Plot the observations."
      ],
      "metadata": {
        "id": "KHhiOcFBhNTn"
      }
    },
    {
      "cell_type": "code",
      "execution_count": 51,
      "metadata": {
        "id": "AOTGG8sUhKF6",
        "colab": {
          "base_uri": "https://localhost:8080/"
        },
        "outputId": "a9282a5f-93af-4485-c075-70f050f8aeb4"
      },
      "outputs": [
        {
          "output_type": "stream",
          "name": "stdout",
          "text": [
            "The observations：\n",
            "Obs1: (1,4)\n",
            "Obs2: (2,3)\n",
            "Obs3: (0,4)\n",
            "Obs4: (5,1)\n",
            "Obs5: (6,2)\n",
            "Obs6: (4,0)\n"
          ]
        }
      ],
      "source": [
        "print('''The observations：\n",
        "Obs1: (1,4)\n",
        "Obs2: (2,3)\n",
        "Obs3: (0,4)\n",
        "Obs4: (5,1)\n",
        "Obs5: (6,2)\n",
        "Obs6: (4,0)''')"
      ]
    },
    {
      "cell_type": "markdown",
      "source": [
        "(b) Randomly assign a cluster label to each observation. You can use\n",
        "the np.random.choice() function to do this. Report the cluster\n",
        "labels for each observation."
      ],
      "metadata": {
        "id": "O4YYBHmbhOFf"
      }
    },
    {
      "cell_type": "code",
      "source": [
        "import numpy as np\n",
        "\n",
        "n = 6  # There are 6 observations in total\n",
        "K = 2  # 2 group\n",
        "\n",
        "# Random assignment cluster label (1 或 2)\n",
        "labels = np.random.choice([1, 2], size=n)\n",
        "print(labels)\n"
      ],
      "metadata": {
        "colab": {
          "base_uri": "https://localhost:8080/"
        },
        "id": "pCP0GId-hOOM",
        "outputId": "92234fd2-f4ef-4e06-9b0c-4934eaa0f44b"
      },
      "execution_count": 52,
      "outputs": [
        {
          "output_type": "stream",
          "name": "stdout",
          "text": [
            "[1 1 2 2 2 2]\n"
          ]
        }
      ]
    },
    {
      "cell_type": "markdown",
      "source": [
        "* Obs1: (1,4) [1]\n",
        "* Obs2: (2,3) [1]\n",
        "* Obs3: (0,4) [2]\n",
        "* Obs4: (5,1) [2]\n",
        "* Obs5: (6,2) [2]\n",
        "* Obs6: (4,0) [2]"
      ],
      "metadata": {
        "id": "OchuvfCie08I"
      }
    },
    {
      "cell_type": "markdown",
      "source": [
        "(c) Compute the centroid for each cluster.\n"
      ],
      "metadata": {
        "id": "MB502UlAhOV9"
      }
    },
    {
      "cell_type": "code",
      "source": [
        "import numpy as np\n",
        "\n",
        "# Original data (X1, X2)\n",
        "X = np.array([\n",
        "    [1, 4],  # Obs1\n",
        "    [2, 3],  # Obs2\n",
        "    [0, 4],  # Obs3\n",
        "    [5, 1],  # Obs4\n",
        "    [6, 2],  # Obs5\n",
        "    [4, 0]   # Obs6\n",
        "])\n",
        "\n",
        "# (b) Random clustering results\n",
        "labels = np.array([1, 1, 2, 2, 2, 2])\n",
        "\n",
        "# (c) Calculate the centroid of each group\n",
        "centroids = []\n",
        "for k in [1, 2]:\n",
        "    cluster_points = X[labels == k]\n",
        "    centroid = cluster_points.mean(axis=0)\n",
        "    centroids.append(centroid)\n",
        "centroids = np.array(centroids)\n",
        "print(\"Centroids:\\n\", centroids)\n"
      ],
      "metadata": {
        "id": "9acPByBhhOcf",
        "colab": {
          "base_uri": "https://localhost:8080/"
        },
        "outputId": "951ce484-ae8b-45df-ed3a-b38acfd3e94a"
      },
      "execution_count": 53,
      "outputs": [
        {
          "output_type": "stream",
          "name": "stdout",
          "text": [
            "Centroids:\n",
            " [[1.5  3.5 ]\n",
            " [3.75 1.75]]\n"
          ]
        }
      ]
    },
    {
      "cell_type": "markdown",
      "source": [
        "(d) Assign each observation to the centroid to which it is closest, in\n",
        "terms of Euclidean distance. Report the cluster labels for each\n",
        "observation.\n"
      ],
      "metadata": {
        "id": "9gho4uhJhOrP"
      }
    },
    {
      "cell_type": "code",
      "source": [
        "\n",
        "# (d) Redistribution: Calculate the distance between each point and the two centroids\n",
        "new_labels = []\n",
        "for point in X:\n",
        "    distances = np.linalg.norm(point - centroids, axis=1)  # Distance to centroid1, centroid2\n",
        "    new_labels.append(np.argmin(distances) + 1)  # +1 Because we mark the group as 1,2\n",
        "new_labels = np.array(new_labels)\n",
        "\n",
        "print(\"Reassigned labels:\", new_labels)\n"
      ],
      "metadata": {
        "id": "4hiB9S2mhOtO",
        "colab": {
          "base_uri": "https://localhost:8080/"
        },
        "outputId": "2be54f79-1987-4743-8c7a-61b7d91bdf94"
      },
      "execution_count": 54,
      "outputs": [
        {
          "output_type": "stream",
          "name": "stdout",
          "text": [
            "Reassigned labels: [1 1 1 2 2 2]\n"
          ]
        }
      ]
    },
    {
      "cell_type": "markdown",
      "source": [
        "* Obs1: (1,4) [1]\n",
        "* Obs2: (2,3) [1]\n",
        "* Obs3: (0,4) [1]\n",
        "* Obs4: (5,1) [2]\n",
        "* Obs5: (6,2) [2]\n",
        "* Obs6: (4,0) [2]"
      ],
      "metadata": {
        "id": "8E0w6rdliSFA"
      }
    },
    {
      "cell_type": "markdown",
      "source": [
        "(e) Repeat (c) and (d) until the answers obtained stop changing.\n"
      ],
      "metadata": {
        "id": "0JTYTWFghsOp"
      }
    },
    {
      "cell_type": "code",
      "source": [
        "import numpy as np\n",
        "import matplotlib.pyplot as plt\n",
        "\n",
        "# Original data (X1, X2)\n",
        "X = np.array([\n",
        "    [1, 4],  # Obs1\n",
        "    [2, 3],  # Obs2\n",
        "    [0, 4],  # Obs3\n",
        "    [5, 1],  # Obs4\n",
        "    [6, 2],  # Obs5\n",
        "    [4, 0]   # Obs6\n",
        "])\n",
        "\n",
        "n, p = X.shape\n",
        "K = 2\n",
        "\n",
        "# (b) Initial random clustering\n",
        "labels = np.random.choice([1, 2], size=n)\n",
        "print(\"Initial labels:\", labels)\n",
        "\n",
        "# K-means iteration\n",
        "while True:\n",
        "    # (c) Calculate centroid\n",
        "    centroids = []\n",
        "    for k in [1, 2]:\n",
        "        cluster_points = X[labels == k]\n",
        "        centroid = cluster_points.mean(axis=0)\n",
        "        centroids.append(centroid)\n",
        "    centroids = np.array(centroids)\n",
        "\n",
        "    # (d) Redistribution\n",
        "    new_labels = []\n",
        "    for point in X:\n",
        "        distances = np.linalg.norm(point - centroids, axis=1)\n",
        "        new_labels.append(np.argmin(distances) + 1)  # +1 Because we mark the group as 1,2\n",
        "    new_labels = np.array(new_labels)\n",
        "\n",
        "    # Check convergence (labels unchanged)\n",
        "    if np.array_equal(labels, new_labels):\n",
        "        break\n",
        "    labels = new_labels\n",
        "\n",
        "print(\"Final labels:\", labels)\n",
        "print(\"Final centroids:\\n\", centroids)\n"
      ],
      "metadata": {
        "id": "VTP76Jq6hsXT",
        "colab": {
          "base_uri": "https://localhost:8080/"
        },
        "outputId": "a6cbf6e0-9902-4b0f-8800-34b0fe4220e8"
      },
      "execution_count": 55,
      "outputs": [
        {
          "output_type": "stream",
          "name": "stdout",
          "text": [
            "Initial labels: [2 2 1 2 2 1]\n",
            "Final labels: [1 1 1 2 2 2]\n",
            "Final centroids:\n",
            " [[1.         3.66666667]\n",
            " [5.         1.        ]]\n"
          ]
        }
      ]
    },
    {
      "cell_type": "markdown",
      "source": [
        "(f) In your plot from (a), color the observations according to the\n",
        "cluster labels obtained."
      ],
      "metadata": {
        "id": "bWWMSBkehsf8"
      }
    },
    {
      "cell_type": "code",
      "source": [
        "# Draw observation points\n",
        "plt.figure(figsize=(6, 6))\n",
        "colors = ['red' if l == 1 else 'blue' for l in labels]\n",
        "plt.scatter(X[:, 0], X[:, 1], c=colors, s=100, edgecolors='k')\n",
        "\n",
        "# Draw centroids\n",
        "plt.scatter(centroids[:, 0], centroids[:, 1], c=['red', 'blue'],\n",
        "            marker='X', s=200, edgecolors='k')\n",
        "\n",
        "# Add the dot number\n",
        "for i, (x1, x2) in enumerate(X, start=1):\n",
        "    plt.text(x1 + 0.1, x2 + 0.1, str(i), fontsize=12)\n",
        "\n",
        "plt.xlabel(\"X1\")\n",
        "plt.ylabel(\"X2\")\n",
        "plt.title(\"K-means Clustering (K=2)\")\n",
        "plt.show()\n"
      ],
      "metadata": {
        "id": "CpgXYAaXhssK",
        "colab": {
          "base_uri": "https://localhost:8080/",
          "height": 564
        },
        "outputId": "dcd07d93-ecfe-497b-8d2e-63de5e93ad7a"
      },
      "execution_count": 56,
      "outputs": [
        {
          "output_type": "display_data",
          "data": {
            "text/plain": [
              "<Figure size 600x600 with 1 Axes>"
            ],
            "image/png": "[encoded data removed]"
          },
          "metadata": {}
        }
      ]
    }
  ]
}