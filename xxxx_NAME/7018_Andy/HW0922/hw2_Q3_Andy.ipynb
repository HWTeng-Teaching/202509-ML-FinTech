{
  "nbformat": 4,
  "nbformat_minor": 0,
  "metadata": {
    "colab": {
      "provenance": []
    },
    "kernelspec": {
      "name": "python3",
      "display_name": "Python 3"
    },
    "language_info": {
      "name": "python"
    }
  },
  "cells": [
    {
      "cell_type": "markdown",
      "source": [
        "**Chapter 12 Q3**<br>\n",
        "Author: 314657018 統計碩1 陳葳芃Andy\n",
        "===\n",
        "**In this problem, you will perform *K*-means clustering manually, with *K* = 2, on a small example with *n* = 6 observations and *p* = 2 features. The observations are as follows.**\n",
        "\n",
        "| Obs. | X1 | X2 |\n",
        "|------|----|----|\n",
        "| 1    | 1  | 4  |\n",
        "| 2    | 1  | 3  |\n",
        "| 3    | 0  | 4  |\n",
        "| 4    | 5  | 1  |\n",
        "| 5    | 6  | 2  |\n",
        "| 6    | 4  | 0  |"
      ],
      "metadata": {
        "id": "kEgn011FF6uh"
      }
    },
    {
      "cell_type": "markdown",
      "source": [
        "**Q3-(a)**\n",
        "==\n",
        "**Plot the observations.**"
      ],
      "metadata": {
        "id": "RRGmn7urGvx9"
      }
    },
    {
      "cell_type": "code",
      "execution_count": 1,
      "metadata": {
        "id": "1inbpAC9BRO-",
        "colab": {
          "base_uri": "https://localhost:8080/",
          "height": 472
        },
        "outputId": "20e218cd-54a5-4f74-96b9-832e9541e23d"
      },
      "outputs": [
        {
          "output_type": "display_data",
          "data": {
            "text/plain": [
              "<Figure size 640x480 with 1 Axes>"
            ],
            "image/png": "[encoded data removed]"
          },
          "metadata": {}
        }
      ],
      "source": [
        "import matplotlib.pyplot as plt\n",
        "import numpy as np\n",
        "import pandas as pd\n",
        "data = {\n",
        "    \"Obs.\": [1, 2, 3, 4, 5, 6],\n",
        "    \"X1\":   [1, 1, 0, 5, 6, 4],\n",
        "    \"X2\":   [4, 3, 4, 1, 2, 0]\n",
        "}\n",
        "\n",
        "df = pd.DataFrame(data)\n",
        "df.set_index(\"Obs.\", inplace=True)\n",
        "\n",
        "plt.scatter(df[\"X1\"],df[\"X2\"])\n",
        "#print(df.columns)\n",
        "# 標註每個點\n",
        "for i, row in df.iterrows():\n",
        "    plt.text(row[\"X1\"]-0.2, row[\"X2\"]-0.2, f\"Obs{i}\", fontsize=9)\n",
        "\n",
        "plt.xlabel(\"X1\")\n",
        "plt.ylabel(\"X2\")\n",
        "plt.title(\"Scatter plot of X1 vs X2 with Labels\")\n",
        "plt.grid(True)\n",
        "plt.show()"
      ]
    },
    {
      "cell_type": "markdown",
      "source": [
        "**Q3-(b)**\n",
        "==\n",
        "**Randomly assign a cluster label to each observation. You can use the <font color=#A52A2A> np.random.choice()</font> function to do this. Report the cluster labels for each observation.**"
      ],
      "metadata": {
        "id": "43_Z021XGwFU"
      }
    },
    {
      "cell_type": "code",
      "source": [
        "np.random.seed(314657)\n",
        "cls_list=np.random.choice([0, 1], size=6, replace=True, p=None)\n",
        "df[\"Cluster\"] = cls_list\n",
        "print(df)"
      ],
      "metadata": {
        "colab": {
          "base_uri": "https://localhost:8080/"
        },
        "id": "BCGJIORjLcnm",
        "outputId": "bfdce3f5-62ff-4314-e4bd-a9fa22090be0"
      },
      "execution_count": 2,
      "outputs": [
        {
          "output_type": "stream",
          "name": "stdout",
          "text": [
            "      X1  X2  Cluster\n",
            "Obs.                 \n",
            "1      1   4        0\n",
            "2      1   3        0\n",
            "3      0   4        0\n",
            "4      5   1        1\n",
            "5      6   2        0\n",
            "6      4   0        0\n"
          ]
        }
      ]
    },
    {
      "cell_type": "markdown",
      "source": [
        "**Q3-(c)**\n",
        "==\n",
        "**Compute the centroid for each cluster.**"
      ],
      "metadata": {
        "id": "Ig6_rFYkGv8M"
      }
    },
    {
      "cell_type": "code",
      "source": [
        "as_centroids = df.groupby(\"Cluster\")[[\"X1\",\"X2\"]].mean()\n",
        "df[\"assign_centroid\"] = df[\"Cluster\"].map(as_centroids.apply(tuple, axis=1))\n",
        "print(df)\n",
        "print(\"\\n\")\n",
        "print(as_centroids)"
      ],
      "metadata": {
        "colab": {
          "base_uri": "https://localhost:8080/"
        },
        "id": "duOXTD0CK_Da",
        "outputId": "650987c6-1998-4691-e836-3a153565722c"
      },
      "execution_count": 3,
      "outputs": [
        {
          "output_type": "stream",
          "name": "stdout",
          "text": [
            "      X1  X2  Cluster assign_centroid\n",
            "Obs.                                 \n",
            "1      1   4        0      (2.4, 2.6)\n",
            "2      1   3        0      (2.4, 2.6)\n",
            "3      0   4        0      (2.4, 2.6)\n",
            "4      5   1        1      (5.0, 1.0)\n",
            "5      6   2        0      (2.4, 2.6)\n",
            "6      4   0        0      (2.4, 2.6)\n",
            "\n",
            "\n",
            "          X1   X2\n",
            "Cluster          \n",
            "0        2.4  2.6\n",
            "1        5.0  1.0\n"
          ]
        }
      ]
    },
    {
      "cell_type": "markdown",
      "source": [
        "**Q3-(d)**\n",
        "==\n",
        "**Assign each observation to the centroid to which it is closest, in terms of Euclidean distance. Report the cluster labels for each observation.**<br>\n",
        "<font color=#0000FF> **ans: I report the cluster labels for each observation with `\"N1Cluster\"` variable.**</font> <br>\n"
      ],
      "metadata": {
        "id": "xJrzDsl6GwNV"
      }
    },
    {
      "cell_type": "code",
      "source": [
        "def assign_to_nearest_centroid(row, centroids):\n",
        "    distances = centroids.apply(lambda c: np.sqrt((row[\"X1\"] - c[\"X1\"])**2 + (row[\"X2\"] - c[\"X2\"])**2), axis=1)\n",
        "    return distances.idxmin()  # 回傳最近 centroid 的 cluster label\n",
        "\n",
        "df[\"N1Cluster\"] = df.apply(assign_to_nearest_centroid, axis=1, centroids=as_centroids)\n",
        "\n",
        "print(\"DataFrame with new cluster assignments:\")\n",
        "print(df)"
      ],
      "metadata": {
        "colab": {
          "base_uri": "https://localhost:8080/"
        },
        "id": "jgNYZOwdlC9P",
        "outputId": "cacd041c-0e87-41a2-ea74-d5c19028feb9"
      },
      "execution_count": 4,
      "outputs": [
        {
          "output_type": "stream",
          "name": "stdout",
          "text": [
            "DataFrame with new cluster assignments:\n",
            "      X1  X2  Cluster assign_centroid  N1Cluster\n",
            "Obs.                                            \n",
            "1      1   4        0      (2.4, 2.6)          0\n",
            "2      1   3        0      (2.4, 2.6)          0\n",
            "3      0   4        0      (2.4, 2.6)          0\n",
            "4      5   1        1      (5.0, 1.0)          1\n",
            "5      6   2        0      (2.4, 2.6)          1\n",
            "6      4   0        0      (2.4, 2.6)          1\n"
          ]
        }
      ]
    },
    {
      "cell_type": "markdown",
      "source": [
        "**Q3-(e)**\n",
        "==\n",
        "**Repeat (c) and (d) until the answers obtained stop changing.**<br>\n",
        "\n",
        "<font color=#0000FF> Andy's coding logic: <br>\n",
        "\n",
        "1. Initialize clusters and centroids\n",
        "2. Set up a new cluster column for comparison\n",
        "3. Start the iteration loop\n",
        "4. Check for convergence\n",
        "5. Repeat until stable\n",
        "\n",
        "</font> <br>\n"
      ],
      "metadata": {
        "id": "rkYKWZ3wG9Uu"
      }
    },
    {
      "cell_type": "code",
      "source": [
        "N1_centroids = df.groupby(\"N1Cluster\")[[\"X1\",\"X2\"]].mean()\n",
        "df[\"N1_centroid\"] = df[\"N1Cluster\"].map(N1_centroids.apply(tuple, axis=1))\n",
        "print(df)"
      ],
      "metadata": {
        "colab": {
          "base_uri": "https://localhost:8080/"
        },
        "id": "t_0vRfi04e_i",
        "outputId": "bdab39ef-7445-4a22-d2f3-67f59f2fd469"
      },
      "execution_count": 5,
      "outputs": [
        {
          "output_type": "stream",
          "name": "stdout",
          "text": [
            "      X1  X2  Cluster assign_centroid  N1Cluster  \\\n",
            "Obs.                                               \n",
            "1      1   4        0      (2.4, 2.6)          0   \n",
            "2      1   3        0      (2.4, 2.6)          0   \n",
            "3      0   4        0      (2.4, 2.6)          0   \n",
            "4      5   1        1      (5.0, 1.0)          1   \n",
            "5      6   2        0      (2.4, 2.6)          1   \n",
            "6      4   0        0      (2.4, 2.6)          1   \n",
            "\n",
            "                                   N1_centroid  \n",
            "Obs.                                            \n",
            "1     (0.6666666666666666, 3.6666666666666665)  \n",
            "2     (0.6666666666666666, 3.6666666666666665)  \n",
            "3     (0.6666666666666666, 3.6666666666666665)  \n",
            "4                                   (5.0, 1.0)  \n",
            "5                                   (5.0, 1.0)  \n",
            "6                                   (5.0, 1.0)  \n"
          ]
        }
      ]
    },
    {
      "cell_type": "code",
      "source": [
        "##Set up N2Cluster variable to make a comparision with N1Cluster\n",
        "df[\"N2Cluster\"]=np.array([999,999,999,999,999,999])\n",
        "print(df)"
      ],
      "metadata": {
        "colab": {
          "base_uri": "https://localhost:8080/"
        },
        "id": "ROp2ktY3oVkB",
        "outputId": "c022984f-6f59-4915-8569-f90e97f1a5c0"
      },
      "execution_count": 6,
      "outputs": [
        {
          "output_type": "stream",
          "name": "stdout",
          "text": [
            "      X1  X2  Cluster assign_centroid  N1Cluster  \\\n",
            "Obs.                                               \n",
            "1      1   4        0      (2.4, 2.6)          0   \n",
            "2      1   3        0      (2.4, 2.6)          0   \n",
            "3      0   4        0      (2.4, 2.6)          0   \n",
            "4      5   1        1      (5.0, 1.0)          1   \n",
            "5      6   2        0      (2.4, 2.6)          1   \n",
            "6      4   0        0      (2.4, 2.6)          1   \n",
            "\n",
            "                                   N1_centroid  N2Cluster  \n",
            "Obs.                                                       \n",
            "1     (0.6666666666666666, 3.6666666666666665)        999  \n",
            "2     (0.6666666666666666, 3.6666666666666665)        999  \n",
            "3     (0.6666666666666666, 3.6666666666666665)        999  \n",
            "4                                   (5.0, 1.0)        999  \n",
            "5                                   (5.0, 1.0)        999  \n",
            "6                                   (5.0, 1.0)        999  \n"
          ]
        }
      ]
    },
    {
      "cell_type": "code",
      "source": [
        "while 1:\n",
        "  df[\"N2Cluster\"] = df.apply(assign_to_nearest_centroid, axis=1, centroids=N1_centroids)\n",
        "  N2_centroids = df.groupby(\"N2Cluster\")[[\"X1\",\"X2\"]].mean()\n",
        "  df[\"N2_centroid\"] = df[\"N2Cluster\"].map(N2_centroids.apply(tuple, axis=1))\n",
        "\n",
        "  if (df['N1Cluster'] == df['N2Cluster']).all():\n",
        "    print(\"break\")\n",
        "    break\n",
        "  else:\n",
        "    df[\"N1Cluster\"] = df[\"N2Cluster\"]\n",
        "    df[\"N1_centroid\"]=df[\"N2_centroid\"]\n",
        "    print(\"\\n\")\n",
        "    print(\"NEXT ROUND\")\n",
        "\n",
        "print(df)"
      ],
      "metadata": {
        "colab": {
          "base_uri": "https://localhost:8080/"
        },
        "id": "24b6JzYRqdZ1",
        "outputId": "62ad5ebb-27d9-4d67-be5d-03b49ed50d0f"
      },
      "execution_count": 7,
      "outputs": [
        {
          "output_type": "stream",
          "name": "stdout",
          "text": [
            "break\n",
            "      X1  X2  Cluster assign_centroid  N1Cluster  \\\n",
            "Obs.                                               \n",
            "1      1   4        0      (2.4, 2.6)          0   \n",
            "2      1   3        0      (2.4, 2.6)          0   \n",
            "3      0   4        0      (2.4, 2.6)          0   \n",
            "4      5   1        1      (5.0, 1.0)          1   \n",
            "5      6   2        0      (2.4, 2.6)          1   \n",
            "6      4   0        0      (2.4, 2.6)          1   \n",
            "\n",
            "                                   N1_centroid  N2Cluster  \\\n",
            "Obs.                                                        \n",
            "1     (0.6666666666666666, 3.6666666666666665)          0   \n",
            "2     (0.6666666666666666, 3.6666666666666665)          0   \n",
            "3     (0.6666666666666666, 3.6666666666666665)          0   \n",
            "4                                   (5.0, 1.0)          1   \n",
            "5                                   (5.0, 1.0)          1   \n",
            "6                                   (5.0, 1.0)          1   \n",
            "\n",
            "                                   N2_centroid  \n",
            "Obs.                                            \n",
            "1     (0.6666666666666666, 3.6666666666666665)  \n",
            "2     (0.6666666666666666, 3.6666666666666665)  \n",
            "3     (0.6666666666666666, 3.6666666666666665)  \n",
            "4                                   (5.0, 1.0)  \n",
            "5                                   (5.0, 1.0)  \n",
            "6                                   (5.0, 1.0)  \n"
          ]
        }
      ]
    },
    {
      "cell_type": "markdown",
      "source": [
        "**Q3-(f)**\n",
        "==\n",
        "**In your plot from (a), color the observations according to the cluster labels obtained.**"
      ],
      "metadata": {
        "id": "_Ra-gWHCG-_c"
      }
    },
    {
      "cell_type": "code",
      "source": [
        "plt.scatter(df[\"X1\"],df[\"X2\"],c=df[\"N1Cluster\"])\n",
        "#print(df.columns)\n",
        "# 標註每個點\n",
        "for i, row in df.iterrows():\n",
        "    plt.text(row[\"X1\"]-0.2, row[\"X2\"]-0.2, f\"Obs{i}\", fontsize=9)\n",
        "\n",
        "plt.xlabel(\"X1\")\n",
        "plt.ylabel(\"X2\")\n",
        "plt.title(\"Scatter plot of X1 vs X2 with Labels and Clusters\")\n",
        "plt.grid(True)\n",
        "plt.show()"
      ],
      "metadata": {
        "colab": {
          "base_uri": "https://localhost:8080/",
          "height": 472
        },
        "id": "BmM44YLhzUzy",
        "outputId": "ab453f92-eb3c-4843-c480-85bda0cc9318"
      },
      "execution_count": 8,
      "outputs": [
        {
          "output_type": "display_data",
          "data": {
            "text/plain": [
              "<Figure size 640x480 with 1 Axes>"
            ],
            "image/png": "[encoded data removed]"
          },
          "metadata": {}
        }
      ]
    },
    {
      "cell_type": "markdown",
      "source": [
        "**Appendix A: Details of *while loop* Logic Explanation**\n",
        "=="
      ],
      "metadata": {
        "id": "hOmJ3j-qCDJN"
      }
    },
    {
      "cell_type": "markdown",
      "source": [
        "1. **Initialize clusters and centroids**\n",
        "    * Start with the cluster assignments from the previous step (N1Cluster).\n",
        "    * Calculate the centroid for each cluster by taking the average of X1 and X2 for points in that cluster (N1_centroids).\n",
        "    * Map each point to its centroid (N1_centroid) for reference.\n",
        "2. **Set up a new cluster column for comparison**\n",
        "    * Create N2Cluster to store the new cluster assignment for each point in the next iteration.\n",
        "    * Initialize it with a value that doesn’t exist in the data (e.g., 999) so we can check for changes.\n",
        "3. **Start the iteration loop**\n",
        "    * Assign points to the nearest centroid:\n",
        "        * For each point, calculate the Euclidean distance to each centroid.\n",
        "        * Assign the point to the cluster of the closest centroid (N2Cluster).\n",
        "    * Update centroids:\n",
        "        * Recalculate the centroids based on the new cluster assignments (N2_centroids).\n",
        "        * Map each point to its new centroid (N2_centroid).\n",
        "4. **Check for convergence**\n",
        "    * If N2Cluster is exactly the same as N1Cluster, the clusters are stable, and we stop the loop.\n",
        "    * Otherwise, update N1Cluster and N1_centroid to the new values and update N1_centroids for the next iteration. Then repeat.\n",
        "5. **Repeat until stable**\n",
        "    * This loop continues until the cluster assignments no longer change."
      ],
      "metadata": {
        "id": "Vqim5lSQCj4M"
      }
    },
    {
      "cell_type": "markdown",
      "source": [
        "**Appendix B: Code for testing 測試用code**\n",
        "=="
      ],
      "metadata": {
        "id": "JeCmLbB1H8g5"
      }
    },
    {
      "cell_type": "code",
      "source": [
        "<font color=#0000FF> **ans:**</font> <br>\n",
        "<font color=#A52A2A> </font>"
      ],
      "metadata": {
        "id": "uB0LkBNwH92U"
      },
      "execution_count": null,
      "outputs": []
    }
  ]
}